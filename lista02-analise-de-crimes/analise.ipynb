{
 "cells": [
  {
   "cell_type": "code",
   "execution_count": 140,
   "id": "0c5fc121",
   "metadata": {},
   "outputs": [],
   "source": [
    "import pandas as pd"
   ]
  },
  {
   "cell_type": "markdown",
   "id": "36079c33",
   "metadata": {},
   "source": [
    "Carregando os dados de um dataset"
   ]
  },
  {
   "cell_type": "code",
   "execution_count": 141,
   "id": "a7993d18",
   "metadata": {
    "scrolled": true
   },
   "outputs": [
    {
     "data": {
      "text/html": [
       "<div>\n",
       "<style scoped>\n",
       "    .dataframe tbody tr th:only-of-type {\n",
       "        vertical-align: middle;\n",
       "    }\n",
       "\n",
       "    .dataframe tbody tr th {\n",
       "        vertical-align: top;\n",
       "    }\n",
       "\n",
       "    .dataframe thead th {\n",
       "        text-align: right;\n",
       "    }\n",
       "</style>\n",
       "<table border=\"1\" class=\"dataframe\">\n",
       "  <thead>\n",
       "    <tr style=\"text-align: right;\">\n",
       "      <th></th>\n",
       "      <th>DEPARTAMENTO_CIRCUNSCRICAO</th>\n",
       "      <th>SECCIONAL_CIRCUNSCRICAO</th>\n",
       "      <th>MUNICIPIO_CIRCUNSCRICAO</th>\n",
       "      <th>DP_CIRCUNSCRICAO</th>\n",
       "      <th>LATRO</th>\n",
       "      <th>Nº DE VIT EM LATRO</th>\n",
       "      <th>ID_DELEGACIA</th>\n",
       "      <th>MÊS ESTATISTICA</th>\n",
       "      <th>ANO ESTATISTICA</th>\n",
       "      <th>DATAHORA_REGISTRO_BO</th>\n",
       "      <th>...</th>\n",
       "      <th>NUMERO_LOGRADOURO</th>\n",
       "      <th>LATITUDE</th>\n",
       "      <th>LONGITUDE</th>\n",
       "      <th>TIPO_PESSOA</th>\n",
       "      <th>SEXO_PESSOA</th>\n",
       "      <th>IDADE_PESSOA</th>\n",
       "      <th>DATA_NASCIMENTO_PESSOA</th>\n",
       "      <th>COR_PELE</th>\n",
       "      <th>PROFISSAO</th>\n",
       "      <th>NATUREZA_APURADA</th>\n",
       "    </tr>\n",
       "  </thead>\n",
       "  <tbody>\n",
       "    <tr>\n",
       "      <th>0</th>\n",
       "      <td>DECAP</td>\n",
       "      <td>1ª SEC</td>\n",
       "      <td>São Paulo</td>\n",
       "      <td>005 DP - Aclimação</td>\n",
       "      <td>1.0</td>\n",
       "      <td>1</td>\n",
       "      <td>10342</td>\n",
       "      <td>2018</td>\n",
       "      <td>1</td>\n",
       "      <td>2018-01-21</td>\n",
       "      <td>...</td>\n",
       "      <td>1572.0</td>\n",
       "      <td>-23.562435</td>\n",
       "      <td>-46.645048</td>\n",
       "      <td>Vítima</td>\n",
       "      <td>Masculino</td>\n",
       "      <td>59.0</td>\n",
       "      <td>1958-02-18</td>\n",
       "      <td>Branca</td>\n",
       "      <td>JORNALISTA</td>\n",
       "      <td>LATROCÍNIO</td>\n",
       "    </tr>\n",
       "    <tr>\n",
       "      <th>1</th>\n",
       "      <td>DECAP</td>\n",
       "      <td>3ª SEC</td>\n",
       "      <td>São Paulo</td>\n",
       "      <td>037 DP - Campo Limpo</td>\n",
       "      <td>1.0</td>\n",
       "      <td>1</td>\n",
       "      <td>200100</td>\n",
       "      <td>2018</td>\n",
       "      <td>1</td>\n",
       "      <td>2018-01-20</td>\n",
       "      <td>...</td>\n",
       "      <td>11.0</td>\n",
       "      <td>23.634218</td>\n",
       "      <td>-46.742773</td>\n",
       "      <td>Autor/Vitima</td>\n",
       "      <td>Masculino</td>\n",
       "      <td>27.0</td>\n",
       "      <td>1990-07-02</td>\n",
       "      <td>Branca</td>\n",
       "      <td>POLICIAL MILITAR</td>\n",
       "      <td>LATROCÍNIO</td>\n",
       "    </tr>\n",
       "    <tr>\n",
       "      <th>2</th>\n",
       "      <td>DECAP</td>\n",
       "      <td>3ª SEC</td>\n",
       "      <td>São Paulo</td>\n",
       "      <td>037 DP - Campo Limpo</td>\n",
       "      <td>1.0</td>\n",
       "      <td>1</td>\n",
       "      <td>10356</td>\n",
       "      <td>2018</td>\n",
       "      <td>1</td>\n",
       "      <td>2018-01-11</td>\n",
       "      <td>...</td>\n",
       "      <td>62.0</td>\n",
       "      <td>-23.624715</td>\n",
       "      <td>-46.757891</td>\n",
       "      <td>Vítima</td>\n",
       "      <td>Masculino</td>\n",
       "      <td>59.0</td>\n",
       "      <td>1958-08-09</td>\n",
       "      <td>Branca</td>\n",
       "      <td>NAO INFORMADA</td>\n",
       "      <td>LATROCÍNIO</td>\n",
       "    </tr>\n",
       "    <tr>\n",
       "      <th>3</th>\n",
       "      <td>DECAP</td>\n",
       "      <td>6ª SEC</td>\n",
       "      <td>São Paulo</td>\n",
       "      <td>092 DP - Parque Santo Antônio</td>\n",
       "      <td>1.0</td>\n",
       "      <td>1</td>\n",
       "      <td>10247</td>\n",
       "      <td>2018</td>\n",
       "      <td>1</td>\n",
       "      <td>2018-01-14</td>\n",
       "      <td>...</td>\n",
       "      <td>65.0</td>\n",
       "      <td>-23.660457</td>\n",
       "      <td>-46.758769</td>\n",
       "      <td>Vítima</td>\n",
       "      <td>Masculino</td>\n",
       "      <td>30.0</td>\n",
       "      <td>1987-03-12</td>\n",
       "      <td>Parda</td>\n",
       "      <td>GARÇON(ETE)</td>\n",
       "      <td>LATROCÍNIO</td>\n",
       "    </tr>\n",
       "    <tr>\n",
       "      <th>4</th>\n",
       "      <td>DECAP</td>\n",
       "      <td>8ª SEC</td>\n",
       "      <td>São Paulo</td>\n",
       "      <td>055 DP - Parque São Rafael</td>\n",
       "      <td>1.0</td>\n",
       "      <td>1</td>\n",
       "      <td>10309</td>\n",
       "      <td>2018</td>\n",
       "      <td>1</td>\n",
       "      <td>2018-01-30</td>\n",
       "      <td>...</td>\n",
       "      <td>189.0</td>\n",
       "      <td>-23.631998</td>\n",
       "      <td>-46.465942</td>\n",
       "      <td>Vítima</td>\n",
       "      <td>Masculino</td>\n",
       "      <td>68.0</td>\n",
       "      <td>1949-11-12</td>\n",
       "      <td>Parda</td>\n",
       "      <td>APOSENTADO(A)</td>\n",
       "      <td>LATROCÍNIO</td>\n",
       "    </tr>\n",
       "  </tbody>\n",
       "</table>\n",
       "<p>5 rows × 30 columns</p>\n",
       "</div>"
      ],
      "text/plain": [
       "  DEPARTAMENTO_CIRCUNSCRICAO SECCIONAL_CIRCUNSCRICAO MUNICIPIO_CIRCUNSCRICAO  \\\n",
       "0                      DECAP                  1ª SEC               São Paulo   \n",
       "1                      DECAP                  3ª SEC               São Paulo   \n",
       "2                      DECAP                  3ª SEC               São Paulo   \n",
       "3                      DECAP                  6ª SEC               São Paulo   \n",
       "4                      DECAP                  8ª SEC               São Paulo   \n",
       "\n",
       "               DP_CIRCUNSCRICAO   LATRO  Nº DE VIT EM LATRO  ID_DELEGACIA  \\\n",
       "0             005 DP - Aclimação    1.0                   1         10342   \n",
       "1           037 DP - Campo Limpo    1.0                   1        200100   \n",
       "2           037 DP - Campo Limpo    1.0                   1         10356   \n",
       "3  092 DP - Parque Santo Antônio    1.0                   1         10247   \n",
       "4     055 DP - Parque São Rafael    1.0                   1         10309   \n",
       "\n",
       "   MÊS ESTATISTICA  ANO ESTATISTICA DATAHORA_REGISTRO_BO  ...  \\\n",
       "0             2018                1           2018-01-21  ...   \n",
       "1             2018                1           2018-01-20  ...   \n",
       "2             2018                1           2018-01-11  ...   \n",
       "3             2018                1           2018-01-14  ...   \n",
       "4             2018                1           2018-01-30  ...   \n",
       "\n",
       "   NUMERO_LOGRADOURO   LATITUDE  LONGITUDE   TIPO_PESSOA SEXO_PESSOA  \\\n",
       "0             1572.0 -23.562435 -46.645048        Vítima   Masculino   \n",
       "1               11.0  23.634218 -46.742773  Autor/Vitima   Masculino   \n",
       "2               62.0 -23.624715 -46.757891        Vítima   Masculino   \n",
       "3               65.0 -23.660457 -46.758769        Vítima   Masculino   \n",
       "4              189.0 -23.631998 -46.465942        Vítima   Masculino   \n",
       "\n",
       "  IDADE_PESSOA DATA_NASCIMENTO_PESSOA COR_PELE         PROFISSAO  \\\n",
       "0         59.0             1958-02-18   Branca        JORNALISTA   \n",
       "1         27.0             1990-07-02   Branca  POLICIAL MILITAR   \n",
       "2         59.0             1958-08-09   Branca     NAO INFORMADA   \n",
       "3         30.0             1987-03-12    Parda       GARÇON(ETE)   \n",
       "4         68.0             1949-11-12    Parda     APOSENTADO(A)   \n",
       "\n",
       "  NATUREZA_APURADA  \n",
       "0      LATROCÍNIO   \n",
       "1      LATROCÍNIO   \n",
       "2      LATROCÍNIO   \n",
       "3      LATROCÍNIO   \n",
       "4      LATROCÍNIO   \n",
       "\n",
       "[5 rows x 30 columns]"
      ]
     },
     "execution_count": 141,
     "metadata": {},
     "output_type": "execute_result"
    }
   ],
   "source": [
    "df = pd.read_excel(\"./Latrocinio_2018_2022.xlsx\")\n",
    "df.head()"
   ]
  },
  {
   "cell_type": "markdown",
   "id": "01a94e0f",
   "metadata": {},
   "source": [
    "Analisando a qtd de amostras"
   ]
  },
  {
   "cell_type": "code",
   "execution_count": 142,
   "id": "3bf0ab62",
   "metadata": {
    "scrolled": true
   },
   "outputs": [
    {
     "data": {
      "text/plain": [
       "(278, 30)"
      ]
     },
     "execution_count": 142,
     "metadata": {},
     "output_type": "execute_result"
    }
   ],
   "source": [
    "df.shape"
   ]
  },
  {
   "cell_type": "markdown",
   "id": "f3872933",
   "metadata": {},
   "source": [
    "Removendo dados duplicados"
   ]
  },
  {
   "cell_type": "code",
   "execution_count": 143,
   "id": "9fee13d9",
   "metadata": {},
   "outputs": [],
   "source": [
    "latrocinio_df = df.drop_duplicates()"
   ]
  },
  {
   "cell_type": "markdown",
   "id": "7d8d8161",
   "metadata": {},
   "source": [
    "Não haviam dados duplicados, por isso continuou com a mesma qtd de amostras"
   ]
  },
  {
   "cell_type": "code",
   "execution_count": 144,
   "id": "8d168892",
   "metadata": {
    "scrolled": true
   },
   "outputs": [
    {
     "data": {
      "text/plain": [
       "(278, 30)"
      ]
     },
     "execution_count": 144,
     "metadata": {},
     "output_type": "execute_result"
    }
   ],
   "source": [
    "latrocinio_df.shape"
   ]
  },
  {
   "cell_type": "markdown",
   "id": "85bad18e",
   "metadata": {},
   "source": [
    "Filtrando os dados para latrocínios que aconteceram na cidade de São Paulo"
   ]
  },
  {
   "cell_type": "code",
   "execution_count": 145,
   "id": "e9a689f8",
   "metadata": {},
   "outputs": [],
   "source": [
    "latrocinio_df = latrocinio_df[latrocinio_df['MUNICIPIO_CIRCUNSCRICAO']==\"São Paulo\"]"
   ]
  },
  {
   "cell_type": "markdown",
   "id": "4a54edf1",
   "metadata": {},
   "source": [
    "Restaram 82 amostras"
   ]
  },
  {
   "cell_type": "code",
   "execution_count": 146,
   "id": "e3cc2410",
   "metadata": {
    "scrolled": false
   },
   "outputs": [
    {
     "data": {
      "text/plain": [
       "(82, 30)"
      ]
     },
     "execution_count": 146,
     "metadata": {},
     "output_type": "execute_result"
    }
   ],
   "source": [
    "latrocinio_df.shape"
   ]
  },
  {
   "cell_type": "markdown",
   "id": "052d22ef",
   "metadata": {},
   "source": [
    "Transformando tipos de dados e retirando NaN"
   ]
  },
  {
   "cell_type": "code",
   "execution_count": 147,
   "id": "17c1dd29",
   "metadata": {
    "scrolled": false
   },
   "outputs": [
    {
     "data": {
      "text/plain": [
       "DEPARTAMENTO_CIRCUNSCRICAO            object\n",
       "SECCIONAL_CIRCUNSCRICAO               object\n",
       "MUNICIPIO_CIRCUNSCRICAO               object\n",
       "DP_CIRCUNSCRICAO                      object\n",
       "LATRO                                float64\n",
       "Nº DE VIT EM LATRO                     int64\n",
       "ID_DELEGACIA                           int64\n",
       "MÊS ESTATISTICA                        int64\n",
       "ANO ESTATISTICA                        int64\n",
       "DATAHORA_REGISTRO_BO          datetime64[ns]\n",
       "NUM_BO                                 int64\n",
       "ANO_BO                                 int64\n",
       "MUNICIPIO_ELABORACAO                  object\n",
       "DP_ELABORACAO                         object\n",
       "SEC_ELABORACAO                        object\n",
       "DEP_ELABORACAO                        object\n",
       "DATA_FATO                     datetime64[ns]\n",
       "HORA_FATO                             object\n",
       "DESC_TIPOLOCAL                        object\n",
       "LOGRADOURO                            object\n",
       "NUMERO_LOGRADOURO                    float64\n",
       "LATITUDE                             float64\n",
       "LONGITUDE                            float64\n",
       "TIPO_PESSOA                           object\n",
       "SEXO_PESSOA                           object\n",
       "IDADE_PESSOA                         float64\n",
       "DATA_NASCIMENTO_PESSOA        datetime64[ns]\n",
       "COR_PELE                              object\n",
       "PROFISSAO                             object\n",
       "NATUREZA_APURADA                      object\n",
       "dtype: object"
      ]
     },
     "execution_count": 147,
     "metadata": {},
     "output_type": "execute_result"
    }
   ],
   "source": [
    "latrocinio_df.dtypes"
   ]
  },
  {
   "cell_type": "code",
   "execution_count": 148,
   "id": "fc44160a",
   "metadata": {},
   "outputs": [
    {
     "data": {
      "text/plain": [
       "Index(['LATRO', 'NUMERO_LOGRADOURO', 'LATITUDE', 'LONGITUDE', 'IDADE_PESSOA',\n",
       "       'DATA_NASCIMENTO_PESSOA', 'PROFISSAO'],\n",
       "      dtype='object')"
      ]
     },
     "execution_count": 148,
     "metadata": {},
     "output_type": "execute_result"
    }
   ],
   "source": [
    "# get a boolean mask indicating which values are NaN\n",
    "mask = latrocinio_df.isna()\n",
    "\n",
    "# get a boolean mask indicating which columns have at least one NaN value\n",
    "has_nan = mask.any(axis=0)\n",
    "\n",
    "# get the column names that have at least one NaN value\n",
    "columns_with_nan = latrocinio_df.columns[has_nan]\n",
    "columns_with_nan"
   ]
  },
  {
   "cell_type": "code",
   "execution_count": 149,
   "id": "c44964d6",
   "metadata": {},
   "outputs": [],
   "source": [
    "latrocinio_df['NUMERO_LOGRADOURO'] = latrocinio_df['NUMERO_LOGRADOURO'].fillna(-1)\n",
    "latrocinio_df['IDADE_PESSOA'] = latrocinio_df['IDADE_PESSOA'].fillna(-1)\n",
    "latrocinio_df['NUMERO_LOGRADOURO'] = latrocinio_df['NUMERO_LOGRADOURO'].astype(float).astype(int)\n",
    "latrocinio_df['IDADE_PESSOA'] = latrocinio_df['IDADE_PESSOA'].astype(float).astype(int)"
   ]
  },
  {
   "cell_type": "code",
   "execution_count": 150,
   "id": "6ab84464",
   "metadata": {},
   "outputs": [
    {
     "data": {
      "text/plain": [
       "DEPARTAMENTO_CIRCUNSCRICAO            object\n",
       "SECCIONAL_CIRCUNSCRICAO               object\n",
       "MUNICIPIO_CIRCUNSCRICAO               object\n",
       "DP_CIRCUNSCRICAO                      object\n",
       "LATRO                                float64\n",
       "Nº DE VIT EM LATRO                     int64\n",
       "ID_DELEGACIA                           int64\n",
       "MÊS ESTATISTICA                        int64\n",
       "ANO ESTATISTICA                        int64\n",
       "DATAHORA_REGISTRO_BO          datetime64[ns]\n",
       "NUM_BO                                 int64\n",
       "ANO_BO                                 int64\n",
       "MUNICIPIO_ELABORACAO                  object\n",
       "DP_ELABORACAO                         object\n",
       "SEC_ELABORACAO                        object\n",
       "DEP_ELABORACAO                        object\n",
       "DATA_FATO                     datetime64[ns]\n",
       "HORA_FATO                             object\n",
       "DESC_TIPOLOCAL                        object\n",
       "LOGRADOURO                            object\n",
       "NUMERO_LOGRADOURO                      int32\n",
       "LATITUDE                             float64\n",
       "LONGITUDE                            float64\n",
       "TIPO_PESSOA                           object\n",
       "SEXO_PESSOA                           object\n",
       "IDADE_PESSOA                           int32\n",
       "DATA_NASCIMENTO_PESSOA        datetime64[ns]\n",
       "COR_PELE                              object\n",
       "PROFISSAO                             object\n",
       "NATUREZA_APURADA                      object\n",
       "dtype: object"
      ]
     },
     "execution_count": 150,
     "metadata": {},
     "output_type": "execute_result"
    }
   ],
   "source": [
    "latrocinio_df.dtypes"
   ]
  },
  {
   "cell_type": "code",
   "execution_count": 151,
   "id": "c273c41b",
   "metadata": {},
   "outputs": [],
   "source": [
    "latrocinio_df['HORA_FATO'] = latrocinio_df['HORA_FATO'].fillna(\"nao-info\")"
   ]
  },
  {
   "cell_type": "markdown",
   "id": "a1a25149",
   "metadata": {},
   "source": [
    "Transformando todas as strings do dataset para lowercase"
   ]
  },
  {
   "cell_type": "code",
   "execution_count": 152,
   "id": "be22d275",
   "metadata": {
    "scrolled": false
   },
   "outputs": [],
   "source": [
    "columns = latrocinio_df.columns\n",
    "types = latrocinio_df.dtypes\n",
    "for col in columns:\n",
    "    if types[col]=='O':\n",
    "        latrocinio_df[col] = latrocinio_df[col].str.lower()\n",
    "        latrocinio_df[col] = latrocinio_df[col].str.strip()\n",
    "\n"
   ]
  },
  {
   "cell_type": "markdown",
   "id": "59170c57",
   "metadata": {},
   "source": [
    "Verificando quais são as colunas existentes, para relacionar estatísticas interessantes"
   ]
  },
  {
   "cell_type": "code",
   "execution_count": 153,
   "id": "0cb2513b",
   "metadata": {
    "scrolled": false
   },
   "outputs": [
    {
     "data": {
      "text/plain": [
       "Index(['DEPARTAMENTO_CIRCUNSCRICAO', 'SECCIONAL_CIRCUNSCRICAO',\n",
       "       'MUNICIPIO_CIRCUNSCRICAO', 'DP_CIRCUNSCRICAO ', 'LATRO',\n",
       "       'Nº DE VIT EM LATRO', 'ID_DELEGACIA', 'MÊS ESTATISTICA',\n",
       "       'ANO ESTATISTICA', 'DATAHORA_REGISTRO_BO', 'NUM_BO', 'ANO_BO',\n",
       "       'MUNICIPIO_ELABORACAO', 'DP_ELABORACAO', 'SEC_ELABORACAO',\n",
       "       'DEP_ELABORACAO', 'DATA_FATO', 'HORA_FATO', 'DESC_TIPOLOCAL',\n",
       "       'LOGRADOURO', 'NUMERO_LOGRADOURO', 'LATITUDE', 'LONGITUDE',\n",
       "       'TIPO_PESSOA', 'SEXO_PESSOA', 'IDADE_PESSOA', 'DATA_NASCIMENTO_PESSOA',\n",
       "       'COR_PELE', 'PROFISSAO', 'NATUREZA_APURADA'],\n",
       "      dtype='object')"
      ]
     },
     "execution_count": 153,
     "metadata": {},
     "output_type": "execute_result"
    }
   ],
   "source": [
    "latrocinio_df.columns"
   ]
  },
  {
   "cell_type": "markdown",
   "id": "8002aee0",
   "metadata": {},
   "source": [
    "Renomear colunas que estão com nomes trocados"
   ]
  },
  {
   "cell_type": "code",
   "execution_count": 154,
   "id": "df24d15c",
   "metadata": {},
   "outputs": [],
   "source": [
    "latrocinio_df = latrocinio_df.rename(columns={'ANO ESTATISTICA': 'MÊS ESTATISTICA', 'MÊS ESTATISTICA':'ANO ESTATISTICA'})"
   ]
  },
  {
   "cell_type": "code",
   "execution_count": 155,
   "id": "7b5e0567",
   "metadata": {
    "scrolled": true
   },
   "outputs": [
    {
     "data": {
      "text/plain": [
       "masculino    76\n",
       "feminino      6\n",
       "Name: SEXO_PESSOA, dtype: int64"
      ]
     },
     "execution_count": 155,
     "metadata": {},
     "output_type": "execute_result"
    }
   ],
   "source": [
    "latrocinio_df['SEXO_PESSOA'].value_counts()"
   ]
  },
  {
   "cell_type": "code",
   "execution_count": 156,
   "id": "260370c1",
   "metadata": {
    "scrolled": true
   },
   "outputs": [
    {
     "data": {
      "text/plain": [
       "vítima          80\n",
       "autor/vitima     2\n",
       "Name: TIPO_PESSOA, dtype: int64"
      ]
     },
     "execution_count": 156,
     "metadata": {},
     "output_type": "execute_result"
    }
   ],
   "source": [
    "latrocinio_df['TIPO_PESSOA'].value_counts()"
   ]
  },
  {
   "cell_type": "code",
   "execution_count": 157,
   "id": "09865d52",
   "metadata": {
    "scrolled": true
   },
   "outputs": [
    {
     "data": {
      "text/plain": [
       "branca           54\n",
       "parda            17\n",
       "amarela           5\n",
       "preta             4\n",
       "não informada     2\n",
       "Name: COR_PELE, dtype: int64"
      ]
     },
     "execution_count": 157,
     "metadata": {},
     "output_type": "execute_result"
    }
   ],
   "source": [
    "latrocinio_df['COR_PELE'].value_counts()"
   ]
  },
  {
   "cell_type": "markdown",
   "id": "0928dd1f",
   "metadata": {},
   "source": [
    "Vamos analisar os locais que mais ocorre latrocínio"
   ]
  },
  {
   "cell_type": "markdown",
   "id": "1aa7c6d3",
   "metadata": {},
   "source": [
    "Pegamos a qtd de latrocinio em cada local"
   ]
  },
  {
   "cell_type": "code",
   "execution_count": 167,
   "id": "6315a244",
   "metadata": {
    "scrolled": true
   },
   "outputs": [
    {
     "data": {
      "text/plain": [
       "via pública            56\n",
       "residência             16\n",
       "comércio e serviços     5\n",
       "saúde                   2\n",
       "carro forte             1\n",
       "restaurante e afins     1\n",
       "terminal/estação        1\n",
       "Name: DESC_TIPOLOCAL, dtype: int64"
      ]
     },
     "execution_count": 167,
     "metadata": {},
     "output_type": "execute_result"
    }
   ],
   "source": [
    "latrocinio_df['DESC_TIPOLOCAL'].value_counts()"
   ]
  },
  {
   "cell_type": "markdown",
   "id": "917eebaa",
   "metadata": {},
   "source": [
    "Importando a biblioteca matplotlib para plotar o gráfico"
   ]
  },
  {
   "cell_type": "code",
   "execution_count": 159,
   "id": "3f284157",
   "metadata": {},
   "outputs": [],
   "source": [
    "import matplotlib.pyplot as plt"
   ]
  },
  {
   "cell_type": "code",
   "execution_count": 160,
   "id": "9ebe9f89",
   "metadata": {
    "scrolled": true
   },
   "outputs": [],
   "source": [
    "qtd_valores = latrocinio_df['DESC_TIPOLOCAL'].value_counts()\n",
    "qtd = qtd_valores.values\n",
    "tipo = qtd_valores.index"
   ]
  },
  {
   "cell_type": "code",
   "execution_count": 161,
   "id": "e8242d56",
   "metadata": {
    "scrolled": false
   },
   "outputs": [
    {
     "data": {
      "image/png": "[encoded data removed]",
      "text/plain": [
       "<Figure size 640x480 with 1 Axes>"
      ]
     },
     "metadata": {},
     "output_type": "display_data"
    }
   ],
   "source": [
    "plt.bar(tipo, qtd)\n",
    "plt.xticks(rotation=90)\n",
    "plt.show()"
   ]
  },
  {
   "cell_type": "code",
   "execution_count": null,
   "id": "dace9081",
   "metadata": {},
   "outputs": [],
   "source": []
  },
  {
   "cell_type": "code",
   "execution_count": 162,
   "id": "ed3bbe81",
   "metadata": {
    "scrolled": true
   },
   "outputs": [
    {
     "data": {
      "image/png": "[encoded data removed]",
      "text/plain": [
       "<Figure size 640x480 with 1 Axes>"
      ]
     },
     "metadata": {},
     "output_type": "display_data"
    }
   ],
   "source": [
    "fig, ax = plt.subplots()\n",
    "qtd_valores = latrocinio_df['MÊS ESTATISTICA'].value_counts()\n",
    "qtd = qtd_valores.values\n",
    "tipo = qtd_valores.index\n",
    "ax.bar(tipo, qtd)\n",
    "ax.set_xticks(tipo)\n",
    "plt.xticks(rotation=90)\n",
    "plt.show()"
   ]
  },
  {
   "cell_type": "code",
   "execution_count": 163,
   "id": "c256e62d",
   "metadata": {},
   "outputs": [
    {
     "data": {
      "image/png": "[encoded data removed]",
      "text/plain": [
       "<Figure size 640x480 with 1 Axes>"
      ]
     },
     "metadata": {},
     "output_type": "display_data"
    }
   ],
   "source": [
    "fig, ax = plt.subplots()\n",
    "qtd_valores = latrocinio_df['SEXO_PESSOA'].value_counts()\n",
    "qtd = qtd_valores.values\n",
    "tipo = qtd_valores.index\n",
    "ax.bar(tipo, qtd)\n",
    "ax.set_xticks(tipo)\n",
    "plt.xticks(rotation=90)\n",
    "plt.show()"
   ]
  },
  {
   "cell_type": "code",
   "execution_count": 164,
   "id": "91bd4cd1",
   "metadata": {},
   "outputs": [
    {
     "data": {
      "image/png": "[encoded data removed]",
      "text/plain": [
       "<Figure size 640x480 with 1 Axes>"
      ]
     },
     "metadata": {},
     "output_type": "display_data"
    }
   ],
   "source": [
    "fig, ax = plt.subplots()\n",
    "qtd_valores = latrocinio_df['COR_PELE'].value_counts()\n",
    "qtd = qtd_valores.values\n",
    "tipo = qtd_valores.index\n",
    "ax.bar(tipo, qtd)\n",
    "ax.set_xticks(tipo)\n",
    "plt.xticks(rotation=90)\n",
    "plt.show()"
   ]
  },
  {
   "cell_type": "code",
   "execution_count": 168,
   "id": "56d4ae88",
   "metadata": {},
   "outputs": [
    {
     "data": {
      "image/png": "[encoded data removed]",
      "text/plain": [
       "<Figure size 640x480 with 1 Axes>"
      ]
     },
     "metadata": {},
     "output_type": "display_data"
    }
   ],
   "source": [
    "fig, ax = plt.subplots()\n",
    "qtd_valores = latrocinio_df['TIPO_PESSOA'].value_counts()\n",
    "qtd = qtd_valores.values\n",
    "tipo = qtd_valores.index\n",
    "ax.bar(tipo, qtd)\n",
    "ax.set_xticks(tipo)\n",
    "plt.xticks(rotation=90)\n",
    "plt.show()"
   ]
  }
 ],
 "metadata": {
  "kernelspec": {
   "display_name": "Python 3 (ipykernel)",
   "language": "python",
   "name": "python3"
  },
  "language_info": {
   "codemirror_mode": {
    "name": "ipython",
    "version": 3
   },
   "file_extension": ".py",
   "mimetype": "text/x-python",
   "name": "python",
   "nbconvert_exporter": "python",
   "pygments_lexer": "ipython3",
   "version": "3.9.13"
  }
 },
 "nbformat": 4,
 "nbformat_minor": 5
}
