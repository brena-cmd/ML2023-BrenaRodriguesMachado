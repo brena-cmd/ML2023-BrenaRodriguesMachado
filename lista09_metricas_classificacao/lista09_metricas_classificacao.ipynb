{
  "nbformat": 4,
  "nbformat_minor": 0,
  "metadata": {
    "colab": {
      "provenance": []
    },
    "kernelspec": {
      "name": "python3",
      "display_name": "Python 3"
    },
    "language_info": {
      "name": "python"
    }
  },
  "cells": [
    {
      "cell_type": "code",
      "execution_count": 63,
      "metadata": {
        "id": "Rhe0nEm9c8RK"
      },
      "outputs": [],
      "source": [
        "from sklearn import datasets\n",
        "from sklearn.metrics import confusion_matrix\n",
        "from sklearn.model_selection import train_test_split\n",
        "from sklearn.preprocessing import StandardScaler\n",
        "from sklearn.linear_model import LogisticRegression\n",
        "import pandas as pd\n",
        "from sklearn.metrics import roc_auc_score\n",
        "import numpy as np"
      ]
    },
    {
      "cell_type": "code",
      "source": [
        "data = datasets.load_iris(as_frame=True)\n",
        "df = data.frame\n",
        "df.head()\n",
        "X = df.drop(columns=['target'])\n",
        "y = df['target']"
      ],
      "metadata": {
        "id": "SgxYhPQ04pKR"
      },
      "execution_count": 64,
      "outputs": []
    },
    {
      "cell_type": "code",
      "source": [
        "X.head()"
      ],
      "metadata": {
        "colab": {
          "base_uri": "https://localhost:8080/",
          "height": 206
        },
        "id": "BwoZp3Db5_r8",
        "outputId": "1a454f1f-5800-4442-83ab-206779d2f634"
      },
      "execution_count": 65,
      "outputs": [
        {
          "output_type": "execute_result",
          "data": {
            "text/plain": [
              "   sepal length (cm)  sepal width (cm)  petal length (cm)  petal width (cm)\n",
              "0                5.1               3.5                1.4               0.2\n",
              "1                4.9               3.0                1.4               0.2\n",
              "2                4.7               3.2                1.3               0.2\n",
              "3                4.6               3.1                1.5               0.2\n",
              "4                5.0               3.6                1.4               0.2"
            ],
            "text/html": [
              "\n",
              "  <div id=\"df-214cdb16-fd71-4b6d-bc2a-3565df14c123\">\n",
              "    <div class=\"colab-df-container\">\n",
              "      <div>\n",
              "<style scoped>\n",
              "    .dataframe tbody tr th:only-of-type {\n",
              "        vertical-align: middle;\n",
              "    }\n",
              "\n",
              "    .dataframe tbody tr th {\n",
              "        vertical-align: top;\n",
              "    }\n",
              "\n",
              "    .dataframe thead th {\n",
              "        text-align: right;\n",
              "    }\n",
              "</style>\n",
              "<table border=\"1\" class=\"dataframe\">\n",
              "  <thead>\n",
              "    <tr style=\"text-align: right;\">\n",
              "      <th></th>\n",
              "      <th>sepal length (cm)</th>\n",
              "      <th>sepal width (cm)</th>\n",
              "      <th>petal length (cm)</th>\n",
              "      <th>petal width (cm)</th>\n",
              "    </tr>\n",
              "  </thead>\n",
              "  <tbody>\n",
              "    <tr>\n",
              "      <th>0</th>\n",
              "      <td>5.1</td>\n",
              "      <td>3.5</td>\n",
              "      <td>1.4</td>\n",
              "      <td>0.2</td>\n",
              "    </tr>\n",
              "    <tr>\n",
              "      <th>1</th>\n",
              "      <td>4.9</td>\n",
              "      <td>3.0</td>\n",
              "      <td>1.4</td>\n",
              "      <td>0.2</td>\n",
              "    </tr>\n",
              "    <tr>\n",
              "      <th>2</th>\n",
              "      <td>4.7</td>\n",
              "      <td>3.2</td>\n",
              "      <td>1.3</td>\n",
              "      <td>0.2</td>\n",
              "    </tr>\n",
              "    <tr>\n",
              "      <th>3</th>\n",
              "      <td>4.6</td>\n",
              "      <td>3.1</td>\n",
              "      <td>1.5</td>\n",
              "      <td>0.2</td>\n",
              "    </tr>\n",
              "    <tr>\n",
              "      <th>4</th>\n",
              "      <td>5.0</td>\n",
              "      <td>3.6</td>\n",
              "      <td>1.4</td>\n",
              "      <td>0.2</td>\n",
              "    </tr>\n",
              "  </tbody>\n",
              "</table>\n",
              "</div>\n",
              "      <button class=\"colab-df-convert\" onclick=\"convertToInteractive('df-214cdb16-fd71-4b6d-bc2a-3565df14c123')\"\n",
              "              title=\"Convert this dataframe to an interactive table.\"\n",
              "              style=\"display:none;\">\n",
              "        \n",
              "  <svg xmlns=\"http://www.w3.org/2000/svg\" height=\"24px\"viewBox=\"0 0 24 24\"\n",
              "       width=\"24px\">\n",
              "    <path d=\"M0 0h24v24H0V0z\" fill=\"none\"/>\n",
              "    <path d=\"M18.56 5.44l.94 2.06.94-2.06 2.06-.94-2.06-.94-.94-2.06-.94 2.06-2.06.94zm-11 1L8.5 8.5l.94-2.06 2.06-.94-2.06-.94L8.5 2.5l-.94 2.06-2.06.94zm10 10l.94 2.06.94-2.06 2.06-.94-2.06-.94-.94-2.06-.94 2.06-2.06.94z\"/><path d=\"M17.41 7.96l-1.37-1.37c-.4-.4-.92-.59-1.43-.59-.52 0-1.04.2-1.43.59L10.3 9.45l-7.72 7.72c-.78.78-.78 2.05 0 2.83L4 21.41c.39.39.9.59 1.41.59.51 0 1.02-.2 1.41-.59l7.78-7.78 2.81-2.81c.8-.78.8-2.07 0-2.86zM5.41 20L4 18.59l7.72-7.72 1.47 1.35L5.41 20z\"/>\n",
              "  </svg>\n",
              "      </button>\n",
              "      \n",
              "  <style>\n",
              "    .colab-df-container {\n",
              "      display:flex;\n",
              "      flex-wrap:wrap;\n",
              "      gap: 12px;\n",
              "    }\n",
              "\n",
              "    .colab-df-convert {\n",
              "      background-color: #E8F0FE;\n",
              "      border: none;\n",
              "      border-radius: 50%;\n",
              "      cursor: pointer;\n",
              "      display: none;\n",
              "      fill: #1967D2;\n",
              "      height: 32px;\n",
              "      padding: 0 0 0 0;\n",
              "      width: 32px;\n",
              "    }\n",
              "\n",
              "    .colab-df-convert:hover {\n",
              "      background-color: #E2EBFA;\n",
              "      box-shadow: 0px 1px 2px rgba(60, 64, 67, 0.3), 0px 1px 3px 1px rgba(60, 64, 67, 0.15);\n",
              "      fill: #174EA6;\n",
              "    }\n",
              "\n",
              "    [theme=dark] .colab-df-convert {\n",
              "      background-color: #3B4455;\n",
              "      fill: #D2E3FC;\n",
              "    }\n",
              "\n",
              "    [theme=dark] .colab-df-convert:hover {\n",
              "      background-color: #434B5C;\n",
              "      box-shadow: 0px 1px 3px 1px rgba(0, 0, 0, 0.15);\n",
              "      filter: drop-shadow(0px 1px 2px rgba(0, 0, 0, 0.3));\n",
              "      fill: #FFFFFF;\n",
              "    }\n",
              "  </style>\n",
              "\n",
              "      <script>\n",
              "        const buttonEl =\n",
              "          document.querySelector('#df-214cdb16-fd71-4b6d-bc2a-3565df14c123 button.colab-df-convert');\n",
              "        buttonEl.style.display =\n",
              "          google.colab.kernel.accessAllowed ? 'block' : 'none';\n",
              "\n",
              "        async function convertToInteractive(key) {\n",
              "          const element = document.querySelector('#df-214cdb16-fd71-4b6d-bc2a-3565df14c123');\n",
              "          const dataTable =\n",
              "            await google.colab.kernel.invokeFunction('convertToInteractive',\n",
              "                                                     [key], {});\n",
              "          if (!dataTable) return;\n",
              "\n",
              "          const docLinkHtml = 'Like what you see? Visit the ' +\n",
              "            '<a target=\"_blank\" href=https://colab.research.google.com/notebooks/data_table.ipynb>data table notebook</a>'\n",
              "            + ' to learn more about interactive tables.';\n",
              "          element.innerHTML = '';\n",
              "          dataTable['output_type'] = 'display_data';\n",
              "          await google.colab.output.renderOutput(dataTable, element);\n",
              "          const docLink = document.createElement('div');\n",
              "          docLink.innerHTML = docLinkHtml;\n",
              "          element.appendChild(docLink);\n",
              "        }\n",
              "      </script>\n",
              "    </div>\n",
              "  </div>\n",
              "  "
            ]
          },
          "metadata": {},
          "execution_count": 65
        }
      ]
    },
    {
      "cell_type": "code",
      "source": [
        "scaler = StandardScaler()\n",
        "scaler.fit(X)\n",
        "X = scaler.transform(X)"
      ],
      "metadata": {
        "id": "P__N7U8T3Yln"
      },
      "execution_count": 66,
      "outputs": []
    },
    {
      "cell_type": "markdown",
      "source": [
        "## 1. Implementando as seguintes métricas de classificação"
      ],
      "metadata": {
        "id": "iQ327eyPt3KS"
      }
    },
    {
      "cell_type": "code",
      "source": [
        "def accuracy(y_pred, y_true):\n",
        "  total_itens = len(y_pred)\n",
        "  total_true_predict = 0\n",
        "\n",
        "  for i in range(total_itens):\n",
        "    if(y_pred[i]==y_true[i]):\n",
        "      total_true_predict+=1\n",
        "  \n",
        "  acc = float(total_true_predict/total_itens)\n",
        "  return acc\n",
        "\n",
        "def precision(y_pred, y_true): #vp/vp+fp\n",
        "  c_m = confusion_matrix(y_true, y_pred)\n",
        "  avg_prec = 0\n",
        "  sum_prec = 0\n",
        "  vp = 0\n",
        "  for i in range(len(c_m)):    \n",
        "    vp = c_m[i,i]\n",
        "    fp = 0\n",
        "    for j in range(len(c_m)):\n",
        "      fp+=c_m[i][j]\n",
        "    fp-=c_m[i,i]\n",
        "    sum_prec += vp/(vp+fp)\n",
        "  avg_prec = sum_prec/len(c_m)\n",
        "  return avg_prec\n",
        "\n",
        "\n",
        "def recall(y_pred, y_true): #vp/vp+fn\n",
        "  c_m = confusion_matrix(y_true, y_pred)\n",
        "  avg_rec = 0\n",
        "  sum_rec = 0\n",
        "  vp = 0\n",
        "  for i in range(len(c_m)):    \n",
        "    vp = c_m[i,i]\n",
        "    fn = 0\n",
        "    for j in range(len(c_m)):\n",
        "      if j==i:\n",
        "        continue\n",
        "      fn = fn+c_m[j][i]\n",
        "    sum_rec += vp/(vp+fn)\n",
        "  avg_rec = sum_rec/len(c_m)\n",
        "  return avg_rec\n",
        "\n",
        "\n",
        "def f1_score(y_pred, y_true): #2*prec*recall / (prec+recall)\n",
        "  prec = precision(y_pred, y_true)\n",
        "  rec = recall(y_pred, y_true)\n",
        "  score = (2*prec*rec) / (prec+rec)\n",
        "  return score\n"
      ],
      "metadata": {
        "id": "gUIUA1YEejin"
      },
      "execution_count": 67,
      "outputs": []
    },
    {
      "cell_type": "markdown",
      "source": [
        "## 2. Dividindo de forma estratificada o Dataset Iris em apenas 10% para treino e 90% para teste."
      ],
      "metadata": {
        "id": "NCy0wJrmt9JE"
      }
    },
    {
      "cell_type": "code",
      "source": [
        "X_train, X_test, y_train, y_test = train_test_split(X,y,test_size=0.1,stratify=y, random_state=42)"
      ],
      "metadata": {
        "id": "LyqfwBxgt2rq"
      },
      "execution_count": 68,
      "outputs": []
    },
    {
      "cell_type": "code",
      "source": [
        "y_train"
      ],
      "metadata": {
        "colab": {
          "base_uri": "https://localhost:8080/"
        },
        "id": "65ZRJRb08N7C",
        "outputId": "ea5b9a02-8e86-4b72-cbcc-15652d8e6ff4"
      },
      "execution_count": 69,
      "outputs": [
        {
          "output_type": "execute_result",
          "data": {
            "text/plain": [
              "29     0\n",
              "145    2\n",
              "8      0\n",
              "148    2\n",
              "25     0\n",
              "      ..\n",
              "63     1\n",
              "65     1\n",
              "37     0\n",
              "2      0\n",
              "33     0\n",
              "Name: target, Length: 135, dtype: int64"
            ]
          },
          "metadata": {},
          "execution_count": 69
        }
      ]
    },
    {
      "cell_type": "markdown",
      "source": [
        "## 3. Criando um modelo preditivo de classificação multi-classe usando Logistic Regression"
      ],
      "metadata": {
        "id": "Xj-F7eIluDgw"
      }
    },
    {
      "cell_type": "code",
      "source": [
        "clf = LogisticRegression(random_state=42,multi_class='auto', solver='lbfgs').fit(X, y)\n",
        "clf.score(X_train,y_train)"
      ],
      "metadata": {
        "colab": {
          "base_uri": "https://localhost:8080/"
        },
        "id": "SyhoAn817HF1",
        "outputId": "11249a0e-fafa-4ad5-bd18-5c661cd3794e"
      },
      "execution_count": 70,
      "outputs": [
        {
          "output_type": "execute_result",
          "data": {
            "text/plain": [
              "0.9777777777777777"
            ]
          },
          "metadata": {},
          "execution_count": 70
        }
      ]
    },
    {
      "cell_type": "code",
      "source": [
        "y_pred = clf.predict(X_test)\n",
        "y_test = y_test.to_numpy()"
      ],
      "metadata": {
        "id": "BrLHGbH68GfP"
      },
      "execution_count": 71,
      "outputs": []
    },
    {
      "cell_type": "code",
      "source": [
        "confusion_matrix(y_test, y_pred, labels=[0,1,2])"
      ],
      "metadata": {
        "colab": {
          "base_uri": "https://localhost:8080/"
        },
        "id": "roCGT1XYG3oX",
        "outputId": "c53076c1-3edb-4836-9eef-11b7d3c6b5f7"
      },
      "execution_count": 72,
      "outputs": [
        {
          "output_type": "execute_result",
          "data": {
            "text/plain": [
              "array([[5, 0, 0],\n",
              "       [0, 4, 1],\n",
              "       [0, 0, 5]])"
            ]
          },
          "metadata": {},
          "execution_count": 72
        }
      ]
    },
    {
      "cell_type": "code",
      "source": [
        "y_pred"
      ],
      "metadata": {
        "colab": {
          "base_uri": "https://localhost:8080/"
        },
        "id": "xE_WZw-7HQyJ",
        "outputId": "8a79f8ae-d8b5-4337-c570-137896250d87"
      },
      "execution_count": 73,
      "outputs": [
        {
          "output_type": "execute_result",
          "data": {
            "text/plain": [
              "array([1, 2, 2, 1, 2, 0, 0, 0, 2, 1, 0, 2, 1, 2, 0])"
            ]
          },
          "metadata": {},
          "execution_count": 73
        }
      ]
    },
    {
      "cell_type": "code",
      "source": [],
      "metadata": {
        "id": "FZ0CMTMZHWUc"
      },
      "execution_count": 73,
      "outputs": []
    },
    {
      "cell_type": "markdown",
      "source": [
        "## 4. Avaliando o modelo usando minhas implementações das métricas: accuracy, precision, recall e f1_measure."
      ],
      "metadata": {
        "id": "H9PZAp4SsYQQ"
      }
    },
    {
      "cell_type": "code",
      "source": [
        "acc = accuracy(y_pred,y_test)\n",
        "prec = precision(y_pred,y_test)\n",
        "rec = recall(y_pred,y_test)\n",
        "f1_score = f1_score(y_pred,y_test)\n",
        "print('Acurária '+str(acc))\n",
        "print('Precisão '+str(prec))\n",
        "print('Recall '+str(rec))\n",
        "print('F1-score '+str(f1_score))"
      ],
      "metadata": {
        "colab": {
          "base_uri": "https://localhost:8080/"
        },
        "id": "6kWIFeW49BRb",
        "outputId": "ab12862c-6d01-421e-86f3-4e56b876caeb"
      },
      "execution_count": 74,
      "outputs": [
        {
          "output_type": "stream",
          "name": "stdout",
          "text": [
            "Acurária 0.9333333333333333\n",
            "Precisão 0.9333333333333332\n",
            "Recall 0.9444444444444445\n",
            "F1-score 0.9388560157790926\n"
          ]
        }
      ]
    },
    {
      "cell_type": "markdown",
      "source": [
        "## Executando as métricas do sklearn para comparação"
      ],
      "metadata": {
        "id": "2DRSHUOTshih"
      }
    },
    {
      "cell_type": "code",
      "source": [
        "from sklearn.metrics import classification_report"
      ],
      "metadata": {
        "id": "Gq4ZXfz7-QKX"
      },
      "execution_count": 75,
      "outputs": []
    },
    {
      "cell_type": "code",
      "source": [
        "print(classification_report(y_test, y_pred, target_names=['0','1','2']))"
      ],
      "metadata": {
        "colab": {
          "base_uri": "https://localhost:8080/"
        },
        "id": "un9ia9aW-Ral",
        "outputId": "e1bfba40-ac31-43f5-99ea-67b87081ee66"
      },
      "execution_count": 76,
      "outputs": [
        {
          "output_type": "stream",
          "name": "stdout",
          "text": [
            "              precision    recall  f1-score   support\n",
            "\n",
            "           0       1.00      1.00      1.00         5\n",
            "           1       1.00      0.80      0.89         5\n",
            "           2       0.83      1.00      0.91         5\n",
            "\n",
            "    accuracy                           0.93        15\n",
            "   macro avg       0.94      0.93      0.93        15\n",
            "weighted avg       0.94      0.93      0.93        15\n",
            "\n"
          ]
        }
      ]
    },
    {
      "cell_type": "code",
      "source": [
        "print(y_test)\n",
        "print(y_pred)"
      ],
      "metadata": {
        "colab": {
          "base_uri": "https://localhost:8080/"
        },
        "id": "U1vBX8v8-klm",
        "outputId": "f0efe5b0-548a-4e66-9d6a-4022e34cae01"
      },
      "execution_count": 77,
      "outputs": [
        {
          "output_type": "stream",
          "name": "stdout",
          "text": [
            "[1 2 2 1 2 0 0 0 2 1 0 2 1 1 0]\n",
            "[1 2 2 1 2 0 0 0 2 1 0 2 1 2 0]\n"
          ]
        }
      ]
    },
    {
      "cell_type": "markdown",
      "source": [
        "## 5. Desenhando a curva ROC para a classe Iris-virginica"
      ],
      "metadata": {
        "id": "k1ybmSkHhDQV"
      }
    },
    {
      "cell_type": "markdown",
      "source": [
        "Para fazer a curva ROC para a classe virgínica, precisamos da abordagem One-vs-Rest onde o rótulo indicará classe virgínica ou classe não virgínica"
      ],
      "metadata": {
        "id": "aGSNfq_-sAXt"
      }
    },
    {
      "cell_type": "code",
      "source": [
        "from sklearn.preprocessing import LabelBinarizer\n",
        "\n",
        "label_binarizer = LabelBinarizer().fit(y_train)\n",
        "y_onehot_test = label_binarizer.transform(y_test)\n",
        "y_onehot_test.shape  # (n_samples, n_classes)"
      ],
      "metadata": {
        "id": "scHo8-QtrFQS",
        "outputId": "1ba638d6-19eb-400b-c769-883dd8768787",
        "colab": {
          "base_uri": "https://localhost:8080/"
        }
      },
      "execution_count": 78,
      "outputs": [
        {
          "output_type": "execute_result",
          "data": {
            "text/plain": [
              "(15, 3)"
            ]
          },
          "metadata": {},
          "execution_count": 78
        }
      ]
    },
    {
      "cell_type": "code",
      "source": [
        "y_onehot_test"
      ],
      "metadata": {
        "id": "92jR7cu7rn8h",
        "outputId": "de932c83-b96b-4ba2-8590-9b91d1a7243a",
        "colab": {
          "base_uri": "https://localhost:8080/"
        }
      },
      "execution_count": 79,
      "outputs": [
        {
          "output_type": "execute_result",
          "data": {
            "text/plain": [
              "array([[0, 1, 0],\n",
              "       [0, 0, 1],\n",
              "       [0, 0, 1],\n",
              "       [0, 1, 0],\n",
              "       [0, 0, 1],\n",
              "       [1, 0, 0],\n",
              "       [1, 0, 0],\n",
              "       [1, 0, 0],\n",
              "       [0, 0, 1],\n",
              "       [0, 1, 0],\n",
              "       [1, 0, 0],\n",
              "       [0, 0, 1],\n",
              "       [0, 1, 0],\n",
              "       [0, 1, 0],\n",
              "       [1, 0, 0]])"
            ]
          },
          "metadata": {},
          "execution_count": 79
        }
      ]
    },
    {
      "cell_type": "code",
      "source": [
        "import matplotlib.pyplot as plt\n",
        "from sklearn.metrics import roc_curve, auc"
      ],
      "metadata": {
        "id": "dGT5wE0-qGwT"
      },
      "execution_count": 80,
      "outputs": []
    },
    {
      "cell_type": "code",
      "source": [
        "# Obtendo as probabilidades previstas para a classe \"virginica\"\n",
        "y_score = clf.predict_proba(X_test)[:, 2]"
      ],
      "metadata": {
        "id": "je4QVathbbjf"
      },
      "execution_count": 81,
      "outputs": []
    },
    {
      "cell_type": "code",
      "source": [
        "fpr, tpr, thresholds = roc_curve(y_onehot_test[:,2], y_score)\n",
        "roc_auc = auc(fpr, tpr)\n",
        "\n",
        "# Plotando a curva ROC\n",
        "plt.plot(fpr, tpr, label='ROC curve (area = %0.2f)' % roc_auc)\n",
        "plt.plot([0, 1], [0, 1], 'k--')  # Linha diagonal para representar o classificador aleatório\n",
        "plt.xlim([0.0, 1.0])\n",
        "plt.ylim([0.0, 1.05])\n",
        "plt.xlabel('Taxa de Falsos Positivos')\n",
        "plt.ylabel('Taxa de Verdadeiros Positivos')\n",
        "plt.title('Curva ROC - Classe Virginica')\n",
        "plt.legend(loc=\"lower right\")\n",
        "plt.show()"
      ],
      "metadata": {
        "id": "UrY2BjvbiJSj",
        "outputId": "c08f9834-beda-49a1-eb15-ba1b8d0b9d69",
        "colab": {
          "base_uri": "https://localhost:8080/",
          "height": 472
        }
      },
      "execution_count": 82,
      "outputs": [
        {
          "output_type": "display_data",
          "data": {
            "text/plain": [
              "<Figure size 640x480 with 1 Axes>"
            ],
            "image/png": "[encoded data removed]"
          },
          "metadata": {}
        }
      ]
    },
    {
      "cell_type": "markdown",
      "source": [
        "## 6. Calculando métrica AUC (Area Under Curve) para a classe Iris-virginica"
      ],
      "metadata": {
        "id": "N4-8EGontRmc"
      }
    },
    {
      "cell_type": "code",
      "source": [
        "auc = roc_auc_score(y_onehot_test[:,2], y_score)\n",
        "print(auc)"
      ],
      "metadata": {
        "id": "hWq0mBdatLx8",
        "outputId": "057fd4f8-aa5f-4dcc-f8fe-200afb41ea42",
        "colab": {
          "base_uri": "https://localhost:8080/"
        }
      },
      "execution_count": 83,
      "outputs": [
        {
          "output_type": "stream",
          "name": "stdout",
          "text": [
            "1.0\n"
          ]
        }
      ]
    }
  ]
}